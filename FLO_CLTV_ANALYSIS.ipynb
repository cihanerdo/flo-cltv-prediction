{
 "cells": [
  {
   "cell_type": "markdown",
   "metadata": {},
   "source": [
    "# İş Problemi\n",
    "FLO satış ve pazarlama faaliyetleri için roadmap belirlemek istemektedir. Şirketin orta uzun vadeli plan yapabilmesi için var olan müşterilerin gelecekte şirkete sağlayacakları potansiyel değerin tahmin edilmesi gerekmektedir."
   ]
  },
  {
   "cell_type": "markdown",
   "metadata": {},
   "source": [
    "İlk olarak kütüphanelerimizi ekleyelim ve output ayarlarımızı yapalım."
   ]
  },
  {
   "cell_type": "code",
   "execution_count": 2,
   "metadata": {},
   "outputs": [],
   "source": [
    "import pandas as pd\n",
    "import datetime as dt\n",
    "import matplotlib.pyplot as plt\n",
    "from lifetimes import BetaGeoFitter\n",
    "from lifetimes import GammaGammaFitter\n",
    "from lifetimes.plotting import plot_period_transactions\n",
    "from sklearn.preprocessing import MinMaxScaler\n",
    "\n",
    "\n",
    "pd.set_option(\"display.max_columns\", None)\n",
    "#pd.set_option(\"display.max_rows\", None)\n",
    "pd.set_option(\"display.width\", 500)\n",
    "pd.set_option(\"display.float_format\", lambda x: \"%.3f\" % x)"
   ]
  },
  {
   "cell_type": "markdown",
   "metadata": {},
   "source": [
    "## Görev 1: Veriyi Hazırlama"
   ]
  },
  {
   "cell_type": "markdown",
   "metadata": {},
   "source": [
    "### Adım 1: flo_data_20K.csv verisini okuyunuz."
   ]
  },
  {
   "cell_type": "code",
   "execution_count": 8,
   "metadata": {},
   "outputs": [],
   "source": [
    "df_ = pd.read_csv(\"Datasets/flo_data_20k.csv\")\n",
    "df = df_.copy()"
   ]
  },
  {
   "cell_type": "markdown",
   "metadata": {},
   "source": [
    "### Adım 2: Aykırı değerleri baskılamak için gerekli olan outlier_thresholds ve replace_with_thresholds fonksiyonlarını tanımlayınız.\n",
    "Not: cltv hesaplanırken frequency değerleri integer olması gerekmektedir.Bu nedenle alt ve üst limitlerini round() ile yuvarlayınız"
   ]
  },
  {
   "cell_type": "code",
   "execution_count": 9,
   "metadata": {},
   "outputs": [],
   "source": [
    "def outlier_thresholds(dataframe, variable):\n",
    "    quartile1 = dataframe[variable].quantile(0.01)\n",
    "    quartile3 = dataframe[variable].quantile(0.99)\n",
    "    interquantile_range = quartile3 - quartile1\n",
    "    up_limit = quartile3 + 1.5 * interquantile_range\n",
    "    low_limit = quartile1 - 1.5 * interquantile_range\n",
    "    return low_limit,up_limit"
   ]
  },
  {
   "cell_type": "code",
   "execution_count": 10,
   "metadata": {},
   "outputs": [],
   "source": [
    "def replace_with_thresholds(dataframe, variable):\n",
    "    low_limit, up_limit = outlier_thresholds(dataframe, variable)\n",
    "    dataframe.loc[(dataframe[variable] < low_limit), variable] = round(low_limit, 0)\n",
    "    dataframe.loc[(dataframe[variable] > up_limit), variable] = round(up_limit, 0)"
   ]
  },
  {
   "cell_type": "markdown",
   "metadata": {},
   "source": [
    "### Adım 3: \"order_num_total_ever_online\", \"order_num_total_ever_offline\", \"customer_value_total_ever_offline\", \"customer_value_total_ever_online\" değişkenlerinin aykırı değerleri varsa baskılayanız."
   ]
  },
  {
   "cell_type": "code",
   "execution_count": 11,
   "metadata": {},
   "outputs": [
    {
     "data": {
      "text/html": [
       "<div>\n",
       "<style scoped>\n",
       "    .dataframe tbody tr th:only-of-type {\n",
       "        vertical-align: middle;\n",
       "    }\n",
       "\n",
       "    .dataframe tbody tr th {\n",
       "        vertical-align: top;\n",
       "    }\n",
       "\n",
       "    .dataframe thead th {\n",
       "        text-align: right;\n",
       "    }\n",
       "</style>\n",
       "<table border=\"1\" class=\"dataframe\">\n",
       "  <thead>\n",
       "    <tr style=\"text-align: right;\">\n",
       "      <th></th>\n",
       "      <th>count</th>\n",
       "      <th>mean</th>\n",
       "      <th>std</th>\n",
       "      <th>min</th>\n",
       "      <th>25%</th>\n",
       "      <th>50%</th>\n",
       "      <th>75%</th>\n",
       "      <th>max</th>\n",
       "    </tr>\n",
       "  </thead>\n",
       "  <tbody>\n",
       "    <tr>\n",
       "      <th>order_num_total_ever_online</th>\n",
       "      <td>19945.000</td>\n",
       "      <td>3.111</td>\n",
       "      <td>4.226</td>\n",
       "      <td>1.000</td>\n",
       "      <td>1.000</td>\n",
       "      <td>2.000</td>\n",
       "      <td>4.000</td>\n",
       "      <td>200.000</td>\n",
       "    </tr>\n",
       "    <tr>\n",
       "      <th>order_num_total_ever_offline</th>\n",
       "      <td>19945.000</td>\n",
       "      <td>1.914</td>\n",
       "      <td>2.063</td>\n",
       "      <td>1.000</td>\n",
       "      <td>1.000</td>\n",
       "      <td>1.000</td>\n",
       "      <td>2.000</td>\n",
       "      <td>109.000</td>\n",
       "    </tr>\n",
       "    <tr>\n",
       "      <th>customer_value_total_ever_offline</th>\n",
       "      <td>19945.000</td>\n",
       "      <td>253.923</td>\n",
       "      <td>301.533</td>\n",
       "      <td>10.000</td>\n",
       "      <td>99.990</td>\n",
       "      <td>179.980</td>\n",
       "      <td>319.970</td>\n",
       "      <td>18119.140</td>\n",
       "    </tr>\n",
       "    <tr>\n",
       "      <th>customer_value_total_ever_online</th>\n",
       "      <td>19945.000</td>\n",
       "      <td>497.322</td>\n",
       "      <td>832.602</td>\n",
       "      <td>12.990</td>\n",
       "      <td>149.980</td>\n",
       "      <td>286.460</td>\n",
       "      <td>578.440</td>\n",
       "      <td>45220.130</td>\n",
       "    </tr>\n",
       "  </tbody>\n",
       "</table>\n",
       "</div>"
      ],
      "text/plain": [
       "                                      count    mean     std    min     25%     50%     75%       max\n",
       "order_num_total_ever_online       19945.000   3.111   4.226  1.000   1.000   2.000   4.000   200.000\n",
       "order_num_total_ever_offline      19945.000   1.914   2.063  1.000   1.000   1.000   2.000   109.000\n",
       "customer_value_total_ever_offline 19945.000 253.923 301.533 10.000  99.990 179.980 319.970 18119.140\n",
       "customer_value_total_ever_online  19945.000 497.322 832.602 12.990 149.980 286.460 578.440 45220.130"
      ]
     },
     "execution_count": 11,
     "metadata": {},
     "output_type": "execute_result"
    }
   ],
   "source": [
    "df.describe().T"
   ]
  },
  {
   "cell_type": "markdown",
   "metadata": {},
   "source": [
    "Tüm sütunlarda max değer gerekenden yüksek olduğu için aykırı değerleri baskılamak için gerekli olan fonksiyonu uyguluyorum.\n"
   ]
  },
  {
   "cell_type": "code",
   "execution_count": 12,
   "metadata": {},
   "outputs": [],
   "source": [
    "replace_with_thresholds(df, \"order_num_total_ever_online\")\n",
    "replace_with_thresholds(df, \"order_num_total_ever_offline\")\n",
    "replace_with_thresholds(df, \"customer_value_total_ever_offline\")\n",
    "replace_with_thresholds(df,\"customer_value_total_ever_online\")"
   ]
  },
  {
   "cell_type": "markdown",
   "metadata": {},
   "source": [
    "### Adım 4: Omnichannel müşterilerin hem online'dan hem de offline platformlardan alışveriş yaptığını ifade etmektedir. Her bir müşterinin toplam alışveriş sayısı ve harcaması için yeni değişkenler oluşturunuz."
   ]
  },
  {
   "cell_type": "code",
   "execution_count": 13,
   "metadata": {},
   "outputs": [],
   "source": [
    "df[\"order_num_total\"] = df[\"order_num_total_ever_online\"] + df[\"order_num_total_ever_offline\"]\n",
    "df[\"customer_value_total\"] = df[\"customer_value_total_ever_offline\"] + df[\"customer_value_total_ever_online\"]"
   ]
  },
  {
   "cell_type": "markdown",
   "metadata": {},
   "source": [
    "Offline ve Online olarak ayrı ayrı analiz yapmamız istenmediği için bu değerleri birleştirmek daha mantıklı olacak."
   ]
  },
  {
   "cell_type": "markdown",
   "metadata": {},
   "source": [
    "### Adım 5: Değişken tiplerini inceleyiniz. Tarih ifade eden değişkenlerin tipini date'e çeviriniz."
   ]
  },
  {
   "cell_type": "code",
   "execution_count": 14,
   "metadata": {},
   "outputs": [],
   "source": [
    "date_columns = df.columns[df.columns.str.contains(\"date\")]\n",
    "df[date_columns] = df[date_columns].apply(pd.to_datetime)"
   ]
  },
  {
   "cell_type": "markdown",
   "metadata": {},
   "source": [
    "##  Görev 2: CLTV Veri Yapısının Oluşturulması"
   ]
  },
  {
   "cell_type": "markdown",
   "metadata": {},
   "source": [
    "### Adım 1: Veri setindeki en son alışverişin yapıldığı tarihten 2 gün sonrasını analiz tarihi olarak alınız."
   ]
  },
  {
   "cell_type": "code",
   "execution_count": 15,
   "metadata": {},
   "outputs": [
    {
     "data": {
      "text/plain": [
       "Timestamp('2021-05-30 00:00:00')"
      ]
     },
     "execution_count": 15,
     "metadata": {},
     "output_type": "execute_result"
    }
   ],
   "source": [
    "df[\"last_order_date\"].max()"
   ]
  },
  {
   "cell_type": "code",
   "execution_count": 16,
   "metadata": {},
   "outputs": [],
   "source": [
    "today_date = dt.datetime(2021, 6, 1)"
   ]
  },
  {
   "cell_type": "markdown",
   "metadata": {},
   "source": [
    "### Adım 2: customer_id, recency_cltv_weekly, T_weekly, frequency ve monetary_cltv_avg değerlerinin yer aldığı yeni bir cltv dataframe'i oluşturunuz."
   ]
  },
  {
   "cell_type": "markdown",
   "metadata": {},
   "source": [
    "* **recency_cltv_weekly** = Son satın alma üzerinden geçen haftalık zaman\n",
    "* **T_weekly** = Analiz tarihinden ne kadar süre önce ilk satın alma yapmış. Müşterinin yaşı\n",
    "* **frequency** = Tekrar eden toplam satın alma sayısı\n",
    "* **monetary_cltv_avg**= Satın alma başına ortalama kazanç"
   ]
  },
  {
   "cell_type": "code",
   "execution_count": 17,
   "metadata": {},
   "outputs": [],
   "source": [
    "cltv_df = pd.DataFrame()"
   ]
  },
  {
   "cell_type": "code",
   "execution_count": 18,
   "metadata": {},
   "outputs": [],
   "source": [
    "cltv_df[\"customer_id\"] = df[\"master_id\"]"
   ]
  },
  {
   "cell_type": "code",
   "execution_count": 19,
   "metadata": {},
   "outputs": [],
   "source": [
    "cltv_df[\"recency_cltv_weekly\"] = ((df[\"last_order_date\"] - df[\"first_order_date\"]).dt.days) / 7\n",
    "cltv_df[\"recency_cltv_weekly\"] = cltv_df[\"recency_cltv_weekly\"].astype(\"int64\")"
   ]
  },
  {
   "cell_type": "markdown",
   "metadata": {},
   "source": [
    "**recency_cltv_weekly** = Son satın alma üzerinden geçen haftalık zaman"
   ]
  },
  {
   "cell_type": "code",
   "execution_count": 20,
   "metadata": {},
   "outputs": [],
   "source": [
    "cltv_df[\"T_weekly\"] = ((today_date - df[\"first_order_date\"]).astype('timedelta64[ns]')) / 7\n",
    "cltv_df[\"T_weekly\"] = cltv_df[\"T_weekly\"].dt.days"
   ]
  },
  {
   "cell_type": "markdown",
   "metadata": {},
   "source": [
    "**T_weekly** = Analiz tarihinden ne kadar süre önce ilk satın alma yapmış. Müşterinin yaşı"
   ]
  },
  {
   "cell_type": "code",
   "execution_count": 21,
   "metadata": {},
   "outputs": [],
   "source": [
    "cltv_df[\"frequency\"] = df[\"order_num_total\"].astype(\"int64\")"
   ]
  },
  {
   "cell_type": "markdown",
   "metadata": {},
   "source": [
    "**frequency** = Tekrar eden toplam satın alma sayısı"
   ]
  },
  {
   "cell_type": "code",
   "execution_count": 22,
   "metadata": {},
   "outputs": [],
   "source": [
    "cltv_df[\"monetary_cltv_avg\"] = df[\"customer_value_total\"].astype(\"int64\") / df[\"order_num_total\"].astype(\"int64\")\n",
    "cltv_df[\"monetary_cltv_avg\"] = cltv_df[\"monetary_cltv_avg\"].astype(\"int64\")"
   ]
  },
  {
   "cell_type": "markdown",
   "metadata": {},
   "source": [
    "**monetary_cltv_avg** = Satın alma başına ortalama kazanç"
   ]
  },
  {
   "cell_type": "code",
   "execution_count": 23,
   "metadata": {},
   "outputs": [],
   "source": [
    "cltv_df = cltv_df[cltv_df[\"recency_cltv_weekly\"] > 0]"
   ]
  },
  {
   "cell_type": "markdown",
   "metadata": {},
   "source": [
    "Analizi son günün üstünde aldığımız için **recency_cltv_weekly** değeri 0 olamaz. Her ihtimale karşı önlem alıyoruz."
   ]
  },
  {
   "cell_type": "code",
   "execution_count": 24,
   "metadata": {},
   "outputs": [],
   "source": [
    "cltv_df = cltv_df[cltv_df[\"T_weekly\"] > 1]"
   ]
  },
  {
   "cell_type": "markdown",
   "metadata": {},
   "source": [
    "İlk satın alma analiz tarihinden önce yapılmış olması lazım. Yine önlem alıyoruz."
   ]
  },
  {
   "cell_type": "code",
   "execution_count": 25,
   "metadata": {},
   "outputs": [],
   "source": [
    "cltv_df = cltv_df[cltv_df['recency_cltv_weekly'] < cltv_df['T_weekly']]"
   ]
  },
  {
   "cell_type": "markdown",
   "metadata": {},
   "source": [
    "**Recency** değeri mantıken **T_weekly**'den küçük olmalı. Hatalı bir sonuç almamak için uyguluyoruz.\n"
   ]
  },
  {
   "cell_type": "markdown",
   "metadata": {},
   "source": [
    "## Görev 3: BG/NBD, Gamma-Gamma Modellerinin Kurulması ve CLTV’nin Hesaplanması"
   ]
  },
  {
   "cell_type": "markdown",
   "metadata": {},
   "source": [
    "### Adım 1: BG/NBD modelini fit ediniz.\n",
    "* 3 ay içerisinde müşterilerden beklenen satın almaları tahmin ediniz ve exp_sales_3_month olarak cltv dataframe'ine ekleyiniz.\n",
    "* 6 ay içerisinde müşterilerden beklenen satın almaları tahmin ediniz ve exp_sales_6_month olarak cltv dataframe'ine ekleyiniz."
   ]
  },
  {
   "cell_type": "markdown",
   "metadata": {},
   "source": [
    "**BG/NBD** modelinde ise müşterinin yapmış olduğu ortalama harcamayla ilgilenmiyoruz. Müşteri bu zamana kadar ne kadar alışveriş yapmış, alışverişleri arasında ne kadar zaman geçmişle ilgileniriz. Bu değerlere uygun olarak müşterinin yapabileceği alışverişleri tahmin etmeye çalışırız. Aşağıda da 3 aylık ve 6 aylık tahminleri gösteriyorum."
   ]
  },
  {
   "cell_type": "code",
   "execution_count": 26,
   "metadata": {},
   "outputs": [],
   "source": [
    "bgf = BetaGeoFitter(penalizer_coef=0.001)"
   ]
  },
  {
   "cell_type": "code",
   "execution_count": 27,
   "metadata": {},
   "outputs": [
    {
     "name": "stderr",
     "output_type": "stream",
     "text": [
      "c:\\users\\oe\\appdata\\local\\programs\\python\\python39\\lib\\site-packages\\pandas\\core\\arraylike.py:396: RuntimeWarning: invalid value encountered in sqrt\n",
      "  result = getattr(ufunc, method)(*inputs, **kwargs)\n"
     ]
    },
    {
     "data": {
      "text/plain": [
       "<lifetimes.BetaGeoFitter: fitted with 19566 subjects, a: 0.00, alpha: 76.61, b: 0.00, r: 3.67>"
      ]
     },
     "execution_count": 27,
     "metadata": {},
     "output_type": "execute_result"
    }
   ],
   "source": [
    "bgf.fit(cltv_df[\"frequency\"],\n",
    "        cltv_df[\"recency_cltv_weekly\"],\n",
    "        cltv_df[\"T_weekly\"])"
   ]
  },
  {
   "cell_type": "code",
   "execution_count": 29,
   "metadata": {},
   "outputs": [],
   "source": [
    "cltv_df[\"exp_sales_3_month\"] = bgf.predict(4 * 3,\n",
    "                                                cltv_df[\"frequency\"],\n",
    "                                                cltv_df[\"recency_cltv_weekly\"],\n",
    "                                                cltv_df[\"T_weekly\"])"
   ]
  },
  {
   "cell_type": "code",
   "execution_count": 30,
   "metadata": {},
   "outputs": [],
   "source": [
    "cltv_df[\"exp_sales_6_month\"] = bgf.predict(4 * 6,\n",
    "                                                cltv_df[\"frequency\"],\n",
    "                                                cltv_df[\"recency_cltv_weekly\"],\n",
    "                                                cltv_df[\"T_weekly\"])"
   ]
  },
  {
   "cell_type": "markdown",
   "metadata": {},
   "source": [
    "### Adım 2: Gamma-Gamma modelini fit ediniz. Müşterilerin ortalama bırakacakları değeri tahminleyip exp_average_value olarak cltv dataframe'ine ekleyiniz."
   ]
  },
  {
   "cell_type": "code",
   "execution_count": 31,
   "metadata": {},
   "outputs": [],
   "source": [
    "ggf = GammaGammaFitter(penalizer_coef=0.01)"
   ]
  },
  {
   "cell_type": "code",
   "execution_count": 32,
   "metadata": {},
   "outputs": [
    {
     "data": {
      "text/plain": [
       "<lifetimes.GammaGammaFitter: fitted with 19566 subjects, p: 4.15, q: 0.47, v: 4.08>"
      ]
     },
     "execution_count": 32,
     "metadata": {},
     "output_type": "execute_result"
    }
   ],
   "source": [
    "ggf.fit(cltv_df[\"frequency\"], cltv_df[\"monetary_cltv_avg\"])"
   ]
  },
  {
   "cell_type": "code",
   "execution_count": 33,
   "metadata": {},
   "outputs": [],
   "source": [
    "cltv_df[\"expected_average_value\"] = ggf.conditional_expected_average_profit(cltv_df[\"frequency\"],\n",
    "                                                                            cltv_df[\"monetary_cltv_avg\"])"
   ]
  },
  {
   "cell_type": "markdown",
   "metadata": {},
   "source": [
    "Bir müşterinin işlem başına ne kadar kar getirebileceğini tahmin etmek için kullandık. Frekans ve ortalama harcamasının dikkate alma amacımız bir kullanıcı bizde ne kadar sık alışveriş yaptıysa o kadar çok yapmaya devam edebileceği tahminini yürütmemize olanak sağlar. Aynı şekilde bu zamana kadar ortalama ne kadar para harcadıysa ilerleyen dönemlerde o şekilde harcama yapacağını tahmin edebiliriz."
   ]
  },
  {
   "cell_type": "markdown",
   "metadata": {},
   "source": [
    "### Adım 3: 6 aylık CLTV hesaplayınız ve cltv ismiyle dataframe'e ekleyiniz.\n",
    "* Cltv değeri en yüksek 20 kişiyi gözlemleyiniz."
   ]
  },
  {
   "cell_type": "markdown",
   "metadata": {},
   "source": [
    "Müşteri Yaşam Boyu Değeri Tahmini, bir müşterinin işlem başına ne kadar kar getirebileceğini tahmin etmek için kullanılır. **Frekans** ve **ortalama harcamasını** dikkate alma amacımız bir kullanıcı bizde ne kadar sık alışveriş yaptıysa o kadar çok yapmaya devam edebileceği tahminini yürütmemize olanak sağlar. Ancak burda **recency** ve **T** değerlerini de dahil ettik. Bu da müşterinin yaşı ve son alışverişinden bu yana geçen süreyi de dahil eder. Bu da daha isabetli bir tahminde bulunmamıza katkı sağlar."
   ]
  },
  {
   "cell_type": "code",
   "execution_count": 34,
   "metadata": {},
   "outputs": [],
   "source": [
    "cltv = ggf.customer_lifetime_value(bgf,\n",
    "                                   cltv_df[\"frequency\"],\n",
    "                                   cltv_df[\"recency_cltv_weekly\"],\n",
    "                                   cltv_df[\"T_weekly\"],\n",
    "                                   cltv_df[\"monetary_cltv_avg\"],\n",
    "                                   time=6,\n",
    "                                   freq=\"W\",\n",
    "                                   discount_rate=0.01)"
   ]
  },
  {
   "cell_type": "code",
   "execution_count": 35,
   "metadata": {},
   "outputs": [],
   "source": [
    "cltv_df[\"cltv\"] = cltv"
   ]
  },
  {
   "cell_type": "code",
   "execution_count": 36,
   "metadata": {},
   "outputs": [
    {
     "data": {
      "text/html": [
       "<div>\n",
       "<style scoped>\n",
       "    .dataframe tbody tr th:only-of-type {\n",
       "        vertical-align: middle;\n",
       "    }\n",
       "\n",
       "    .dataframe tbody tr th {\n",
       "        vertical-align: top;\n",
       "    }\n",
       "\n",
       "    .dataframe thead th {\n",
       "        text-align: right;\n",
       "    }\n",
       "</style>\n",
       "<table border=\"1\" class=\"dataframe\">\n",
       "  <thead>\n",
       "    <tr style=\"text-align: right;\">\n",
       "      <th></th>\n",
       "      <th>customer_id</th>\n",
       "      <th>recency_cltv_weekly</th>\n",
       "      <th>T_weekly</th>\n",
       "      <th>frequency</th>\n",
       "      <th>monetary_cltv_avg</th>\n",
       "      <th>exp_sales_3_month</th>\n",
       "      <th>exp_sales_6_month</th>\n",
       "      <th>expected_average_value</th>\n",
       "      <th>cltv</th>\n",
       "    </tr>\n",
       "  </thead>\n",
       "  <tbody>\n",
       "    <tr>\n",
       "      <th>9055</th>\n",
       "      <td>47a642fe-975b-11eb-8c2a-000d3a38a36f</td>\n",
       "      <td>2</td>\n",
       "      <td>7</td>\n",
       "      <td>4</td>\n",
       "      <td>1401</td>\n",
       "      <td>1.101</td>\n",
       "      <td>2.203</td>\n",
       "      <td>1448.103</td>\n",
       "      <td>3346.849</td>\n",
       "    </tr>\n",
       "    <tr>\n",
       "      <th>13880</th>\n",
       "      <td>7137a5c0-7aad-11ea-8f20-000d3a38a36f</td>\n",
       "      <td>6</td>\n",
       "      <td>13</td>\n",
       "      <td>11</td>\n",
       "      <td>758</td>\n",
       "      <td>1.965</td>\n",
       "      <td>3.930</td>\n",
       "      <td>767.249</td>\n",
       "      <td>3163.713</td>\n",
       "    </tr>\n",
       "    <tr>\n",
       "      <th>17323</th>\n",
       "      <td>f59053e2-a503-11e9-a2fc-000d3a38a36f</td>\n",
       "      <td>51</td>\n",
       "      <td>101</td>\n",
       "      <td>7</td>\n",
       "      <td>1106</td>\n",
       "      <td>0.721</td>\n",
       "      <td>1.442</td>\n",
       "      <td>1127.078</td>\n",
       "      <td>1705.662</td>\n",
       "    </tr>\n",
       "    <tr>\n",
       "      <th>7330</th>\n",
       "      <td>a4d534a2-5b1b-11eb-8dbd-000d3a38a36f</td>\n",
       "      <td>62</td>\n",
       "      <td>67</td>\n",
       "      <td>52</td>\n",
       "      <td>166</td>\n",
       "      <td>4.652</td>\n",
       "      <td>9.304</td>\n",
       "      <td>166.486</td>\n",
       "      <td>1625.233</td>\n",
       "    </tr>\n",
       "    <tr>\n",
       "      <th>8868</th>\n",
       "      <td>9ce6e520-89b0-11ea-a6e7-000d3a38a36f</td>\n",
       "      <td>3</td>\n",
       "      <td>34</td>\n",
       "      <td>8</td>\n",
       "      <td>601</td>\n",
       "      <td>1.266</td>\n",
       "      <td>2.533</td>\n",
       "      <td>611.236</td>\n",
       "      <td>1624.453</td>\n",
       "    </tr>\n",
       "    <tr>\n",
       "      <th>6402</th>\n",
       "      <td>851de3b4-8f0c-11eb-8cb8-000d3a38a36f</td>\n",
       "      <td>8</td>\n",
       "      <td>9</td>\n",
       "      <td>2</td>\n",
       "      <td>862</td>\n",
       "      <td>0.795</td>\n",
       "      <td>1.591</td>\n",
       "      <td>922.770</td>\n",
       "      <td>1540.055</td>\n",
       "    </tr>\n",
       "    <tr>\n",
       "      <th>6666</th>\n",
       "      <td>53fe00d4-7b7a-11eb-960b-000d3a38a36f</td>\n",
       "      <td>9</td>\n",
       "      <td>13</td>\n",
       "      <td>17</td>\n",
       "      <td>259</td>\n",
       "      <td>2.768</td>\n",
       "      <td>5.537</td>\n",
       "      <td>261.196</td>\n",
       "      <td>1517.402</td>\n",
       "    </tr>\n",
       "    <tr>\n",
       "      <th>19538</th>\n",
       "      <td>55d54d9e-8ac7-11ea-8ec0-000d3a38a36f</td>\n",
       "      <td>52</td>\n",
       "      <td>58</td>\n",
       "      <td>31</td>\n",
       "      <td>228</td>\n",
       "      <td>3.091</td>\n",
       "      <td>6.182</td>\n",
       "      <td>229.072</td>\n",
       "      <td>1485.831</td>\n",
       "    </tr>\n",
       "    <tr>\n",
       "      <th>14858</th>\n",
       "      <td>031b2954-6d28-11eb-99c4-000d3a38a36f</td>\n",
       "      <td>14</td>\n",
       "      <td>15</td>\n",
       "      <td>3</td>\n",
       "      <td>743</td>\n",
       "      <td>0.874</td>\n",
       "      <td>1.748</td>\n",
       "      <td>777.343</td>\n",
       "      <td>1426.043</td>\n",
       "    </tr>\n",
       "    <tr>\n",
       "      <th>15516</th>\n",
       "      <td>9083981a-f59e-11e9-841e-000d3a38a36f</td>\n",
       "      <td>63</td>\n",
       "      <td>83</td>\n",
       "      <td>4</td>\n",
       "      <td>1090</td>\n",
       "      <td>0.577</td>\n",
       "      <td>1.154</td>\n",
       "      <td>1126.881</td>\n",
       "      <td>1364.336</td>\n",
       "    </tr>\n",
       "    <tr>\n",
       "      <th>17963</th>\n",
       "      <td>8fd88976-6708-11ea-9d38-000d3a38a36f</td>\n",
       "      <td>50</td>\n",
       "      <td>63</td>\n",
       "      <td>7</td>\n",
       "      <td>694</td>\n",
       "      <td>0.917</td>\n",
       "      <td>1.835</td>\n",
       "      <td>707.447</td>\n",
       "      <td>1362.014</td>\n",
       "    </tr>\n",
       "    <tr>\n",
       "      <th>6717</th>\n",
       "      <td>40b4f318-9dfb-11eb-9c47-000d3a38a36f</td>\n",
       "      <td>27</td>\n",
       "      <td>33</td>\n",
       "      <td>7</td>\n",
       "      <td>544</td>\n",
       "      <td>1.169</td>\n",
       "      <td>2.337</td>\n",
       "      <td>554.669</td>\n",
       "      <td>1360.144</td>\n",
       "    </tr>\n",
       "    <tr>\n",
       "      <th>4157</th>\n",
       "      <td>7eed6468-4540-11ea-acaf-000d3a38a36f</td>\n",
       "      <td>89</td>\n",
       "      <td>90</td>\n",
       "      <td>27</td>\n",
       "      <td>289</td>\n",
       "      <td>2.209</td>\n",
       "      <td>4.418</td>\n",
       "      <td>290.521</td>\n",
       "      <td>1346.851</td>\n",
       "    </tr>\n",
       "    <tr>\n",
       "      <th>4735</th>\n",
       "      <td>dbabb58e-6312-11ea-a6dc-000d3a38a36f</td>\n",
       "      <td>61</td>\n",
       "      <td>64</td>\n",
       "      <td>13</td>\n",
       "      <td>442</td>\n",
       "      <td>1.423</td>\n",
       "      <td>2.846</td>\n",
       "      <td>446.688</td>\n",
       "      <td>1333.833</td>\n",
       "    </tr>\n",
       "    <tr>\n",
       "      <th>11694</th>\n",
       "      <td>90f1b7f2-bbad-11ea-a0c9-000d3a38a36f</td>\n",
       "      <td>47</td>\n",
       "      <td>48</td>\n",
       "      <td>6</td>\n",
       "      <td>647</td>\n",
       "      <td>0.932</td>\n",
       "      <td>1.863</td>\n",
       "      <td>661.718</td>\n",
       "      <td>1293.609</td>\n",
       "    </tr>\n",
       "    <tr>\n",
       "      <th>11179</th>\n",
       "      <td>d2e74a36-3228-11eb-860c-000d3a38a36f</td>\n",
       "      <td>1</td>\n",
       "      <td>26</td>\n",
       "      <td>3</td>\n",
       "      <td>750</td>\n",
       "      <td>0.781</td>\n",
       "      <td>1.561</td>\n",
       "      <td>784.653</td>\n",
       "      <td>1285.146</td>\n",
       "    </tr>\n",
       "    <tr>\n",
       "      <th>1853</th>\n",
       "      <td>f02473b0-43c3-11eb-806e-000d3a38a36f</td>\n",
       "      <td>17</td>\n",
       "      <td>23</td>\n",
       "      <td>2</td>\n",
       "      <td>835</td>\n",
       "      <td>0.684</td>\n",
       "      <td>1.367</td>\n",
       "      <td>893.935</td>\n",
       "      <td>1282.250</td>\n",
       "    </tr>\n",
       "    <tr>\n",
       "      <th>5775</th>\n",
       "      <td>e31293ac-d63a-11e9-93bc-000d3a38a36f</td>\n",
       "      <td>91</td>\n",
       "      <td>93</td>\n",
       "      <td>8</td>\n",
       "      <td>727</td>\n",
       "      <td>0.826</td>\n",
       "      <td>1.652</td>\n",
       "      <td>739.273</td>\n",
       "      <td>1281.301</td>\n",
       "    </tr>\n",
       "    <tr>\n",
       "      <th>7312</th>\n",
       "      <td>90befc98-925a-11eb-b584-000d3a38a36f</td>\n",
       "      <td>4</td>\n",
       "      <td>8</td>\n",
       "      <td>6</td>\n",
       "      <td>431</td>\n",
       "      <td>1.372</td>\n",
       "      <td>2.744</td>\n",
       "      <td>441.037</td>\n",
       "      <td>1269.784</td>\n",
       "    </tr>\n",
       "    <tr>\n",
       "      <th>9738</th>\n",
       "      <td>3a27b334-dff4-11ea-acaa-000d3a38a36f</td>\n",
       "      <td>40</td>\n",
       "      <td>41</td>\n",
       "      <td>3</td>\n",
       "      <td>837</td>\n",
       "      <td>0.681</td>\n",
       "      <td>1.362</td>\n",
       "      <td>875.508</td>\n",
       "      <td>1251.072</td>\n",
       "    </tr>\n",
       "  </tbody>\n",
       "</table>\n",
       "</div>"
      ],
      "text/plain": [
       "                                customer_id  recency_cltv_weekly  T_weekly  frequency  monetary_cltv_avg  exp_sales_3_month  exp_sales_6_month  expected_average_value     cltv\n",
       "9055   47a642fe-975b-11eb-8c2a-000d3a38a36f                    2         7          4               1401              1.101              2.203                1448.103 3346.849\n",
       "13880  7137a5c0-7aad-11ea-8f20-000d3a38a36f                    6        13         11                758              1.965              3.930                 767.249 3163.713\n",
       "17323  f59053e2-a503-11e9-a2fc-000d3a38a36f                   51       101          7               1106              0.721              1.442                1127.078 1705.662\n",
       "7330   a4d534a2-5b1b-11eb-8dbd-000d3a38a36f                   62        67         52                166              4.652              9.304                 166.486 1625.233\n",
       "8868   9ce6e520-89b0-11ea-a6e7-000d3a38a36f                    3        34          8                601              1.266              2.533                 611.236 1624.453\n",
       "6402   851de3b4-8f0c-11eb-8cb8-000d3a38a36f                    8         9          2                862              0.795              1.591                 922.770 1540.055\n",
       "6666   53fe00d4-7b7a-11eb-960b-000d3a38a36f                    9        13         17                259              2.768              5.537                 261.196 1517.402\n",
       "19538  55d54d9e-8ac7-11ea-8ec0-000d3a38a36f                   52        58         31                228              3.091              6.182                 229.072 1485.831\n",
       "14858  031b2954-6d28-11eb-99c4-000d3a38a36f                   14        15          3                743              0.874              1.748                 777.343 1426.043\n",
       "15516  9083981a-f59e-11e9-841e-000d3a38a36f                   63        83          4               1090              0.577              1.154                1126.881 1364.336\n",
       "17963  8fd88976-6708-11ea-9d38-000d3a38a36f                   50        63          7                694              0.917              1.835                 707.447 1362.014\n",
       "6717   40b4f318-9dfb-11eb-9c47-000d3a38a36f                   27        33          7                544              1.169              2.337                 554.669 1360.144\n",
       "4157   7eed6468-4540-11ea-acaf-000d3a38a36f                   89        90         27                289              2.209              4.418                 290.521 1346.851\n",
       "4735   dbabb58e-6312-11ea-a6dc-000d3a38a36f                   61        64         13                442              1.423              2.846                 446.688 1333.833\n",
       "11694  90f1b7f2-bbad-11ea-a0c9-000d3a38a36f                   47        48          6                647              0.932              1.863                 661.718 1293.609\n",
       "11179  d2e74a36-3228-11eb-860c-000d3a38a36f                    1        26          3                750              0.781              1.561                 784.653 1285.146\n",
       "1853   f02473b0-43c3-11eb-806e-000d3a38a36f                   17        23          2                835              0.684              1.367                 893.935 1282.250\n",
       "5775   e31293ac-d63a-11e9-93bc-000d3a38a36f                   91        93          8                727              0.826              1.652                 739.273 1281.301\n",
       "7312   90befc98-925a-11eb-b584-000d3a38a36f                    4         8          6                431              1.372              2.744                 441.037 1269.784\n",
       "9738   3a27b334-dff4-11ea-acaa-000d3a38a36f                   40        41          3                837              0.681              1.362                 875.508 1251.072"
      ]
     },
     "execution_count": 36,
     "metadata": {},
     "output_type": "execute_result"
    }
   ],
   "source": [
    "cltv_df.sort_values(by=\"cltv\", ascending=False).head(20)"
   ]
  },
  {
   "cell_type": "markdown",
   "metadata": {},
   "source": [
    "## Görev 4: CLTV Değerine Göre Segmentlerin Oluşturulması"
   ]
  },
  {
   "cell_type": "markdown",
   "metadata": {},
   "source": [
    "### Adım 1: 6 aylık CLTV'ye göre tüm müşterilerinizi 4 gruba (segmente) ayırınız ve grup isimlerini veri setine ekleyiniz."
   ]
  },
  {
   "cell_type": "code",
   "execution_count": 37,
   "metadata": {},
   "outputs": [],
   "source": [
    "cltv_df[\"cltv_segment\"] = pd.qcut(cltv_df[\"cltv\"], 4 , labels=[\"D\", \"C\", \"B\", \"A\"])"
   ]
  },
  {
   "cell_type": "code",
   "execution_count": 38,
   "metadata": {},
   "outputs": [
    {
     "data": {
      "text/html": [
       "<div>\n",
       "<style scoped>\n",
       "    .dataframe tbody tr th:only-of-type {\n",
       "        vertical-align: middle;\n",
       "    }\n",
       "\n",
       "    .dataframe tbody tr th {\n",
       "        vertical-align: top;\n",
       "    }\n",
       "\n",
       "    .dataframe thead th {\n",
       "        text-align: right;\n",
       "    }\n",
       "</style>\n",
       "<table border=\"1\" class=\"dataframe\">\n",
       "  <thead>\n",
       "    <tr style=\"text-align: right;\">\n",
       "      <th></th>\n",
       "      <th>count</th>\n",
       "      <th>mean</th>\n",
       "      <th>std</th>\n",
       "      <th>min</th>\n",
       "      <th>25%</th>\n",
       "      <th>50%</th>\n",
       "      <th>75%</th>\n",
       "      <th>max</th>\n",
       "    </tr>\n",
       "  </thead>\n",
       "  <tbody>\n",
       "    <tr>\n",
       "      <th>recency_cltv_weekly</th>\n",
       "      <td>19566.000</td>\n",
       "      <td>95.302</td>\n",
       "      <td>74.424</td>\n",
       "      <td>1.000</td>\n",
       "      <td>51.000</td>\n",
       "      <td>76.000</td>\n",
       "      <td>109.000</td>\n",
       "      <td>433.000</td>\n",
       "    </tr>\n",
       "    <tr>\n",
       "      <th>T_weekly</th>\n",
       "      <td>19566.000</td>\n",
       "      <td>114.744</td>\n",
       "      <td>74.626</td>\n",
       "      <td>2.000</td>\n",
       "      <td>74.000</td>\n",
       "      <td>93.000</td>\n",
       "      <td>119.000</td>\n",
       "      <td>437.000</td>\n",
       "    </tr>\n",
       "    <tr>\n",
       "      <th>frequency</th>\n",
       "      <td>19566.000</td>\n",
       "      <td>4.982</td>\n",
       "      <td>4.118</td>\n",
       "      <td>2.000</td>\n",
       "      <td>3.000</td>\n",
       "      <td>4.000</td>\n",
       "      <td>6.000</td>\n",
       "      <td>57.000</td>\n",
       "    </tr>\n",
       "    <tr>\n",
       "      <th>monetary_cltv_avg</th>\n",
       "      <td>19566.000</td>\n",
       "      <td>151.218</td>\n",
       "      <td>73.307</td>\n",
       "      <td>22.000</td>\n",
       "      <td>103.000</td>\n",
       "      <td>136.000</td>\n",
       "      <td>181.000</td>\n",
       "      <td>1401.000</td>\n",
       "    </tr>\n",
       "    <tr>\n",
       "      <th>exp_sales_3_month</th>\n",
       "      <td>19566.000</td>\n",
       "      <td>0.575</td>\n",
       "      <td>0.231</td>\n",
       "      <td>0.149</td>\n",
       "      <td>0.434</td>\n",
       "      <td>0.535</td>\n",
       "      <td>0.666</td>\n",
       "      <td>4.652</td>\n",
       "    </tr>\n",
       "    <tr>\n",
       "      <th>exp_sales_6_month</th>\n",
       "      <td>19566.000</td>\n",
       "      <td>1.151</td>\n",
       "      <td>0.461</td>\n",
       "      <td>0.299</td>\n",
       "      <td>0.868</td>\n",
       "      <td>1.070</td>\n",
       "      <td>1.332</td>\n",
       "      <td>9.304</td>\n",
       "    </tr>\n",
       "    <tr>\n",
       "      <th>expected_average_value</th>\n",
       "      <td>19566.000</td>\n",
       "      <td>158.282</td>\n",
       "      <td>76.748</td>\n",
       "      <td>24.395</td>\n",
       "      <td>107.907</td>\n",
       "      <td>142.082</td>\n",
       "      <td>189.396</td>\n",
       "      <td>1448.103</td>\n",
       "    </tr>\n",
       "    <tr>\n",
       "      <th>cltv</th>\n",
       "      <td>19566.000</td>\n",
       "      <td>193.349</td>\n",
       "      <td>131.625</td>\n",
       "      <td>11.886</td>\n",
       "      <td>111.338</td>\n",
       "      <td>164.128</td>\n",
       "      <td>238.255</td>\n",
       "      <td>3346.849</td>\n",
       "    </tr>\n",
       "  </tbody>\n",
       "</table>\n",
       "</div>"
      ],
      "text/plain": [
       "                           count    mean     std    min     25%     50%     75%      max\n",
       "recency_cltv_weekly    19566.000  95.302  74.424  1.000  51.000  76.000 109.000  433.000\n",
       "T_weekly               19566.000 114.744  74.626  2.000  74.000  93.000 119.000  437.000\n",
       "frequency              19566.000   4.982   4.118  2.000   3.000   4.000   6.000   57.000\n",
       "monetary_cltv_avg      19566.000 151.218  73.307 22.000 103.000 136.000 181.000 1401.000\n",
       "exp_sales_3_month      19566.000   0.575   0.231  0.149   0.434   0.535   0.666    4.652\n",
       "exp_sales_6_month      19566.000   1.151   0.461  0.299   0.868   1.070   1.332    9.304\n",
       "expected_average_value 19566.000 158.282  76.748 24.395 107.907 142.082 189.396 1448.103\n",
       "cltv                   19566.000 193.349 131.625 11.886 111.338 164.128 238.255 3346.849"
      ]
     },
     "execution_count": 38,
     "metadata": {},
     "output_type": "execute_result"
    }
   ],
   "source": [
    "cltv_df.describe().T"
   ]
  },
  {
   "cell_type": "code",
   "execution_count": 39,
   "metadata": {},
   "outputs": [
    {
     "name": "stdout",
     "output_type": "stream",
     "text": [
      "<class 'pandas.core.series.Series'>\n",
      "Index: 19566 entries, 0 to 19944\n",
      "Series name: cltv\n",
      "Non-Null Count  Dtype  \n",
      "--------------  -----  \n",
      "19566 non-null  float64\n",
      "dtypes: float64(1)\n",
      "memory usage: 305.7 KB\n"
     ]
    }
   ],
   "source": [
    "cltv_df[\"cltv\"].info()"
   ]
  },
  {
   "cell_type": "code",
   "execution_count": 40,
   "metadata": {},
   "outputs": [],
   "source": [
    "cltv_df[\"cltv\"] = cltv_df[\"cltv\"].astype(float)"
   ]
  },
  {
   "cell_type": "code",
   "execution_count": 41,
   "metadata": {},
   "outputs": [
    {
     "data": {
      "text/html": [
       "<div>\n",
       "<style scoped>\n",
       "    .dataframe tbody tr th:only-of-type {\n",
       "        vertical-align: middle;\n",
       "    }\n",
       "\n",
       "    .dataframe tbody tr th {\n",
       "        vertical-align: top;\n",
       "    }\n",
       "\n",
       "    .dataframe thead tr th {\n",
       "        text-align: left;\n",
       "    }\n",
       "\n",
       "    .dataframe thead tr:last-of-type th {\n",
       "        text-align: right;\n",
       "    }\n",
       "</style>\n",
       "<table border=\"1\" class=\"dataframe\">\n",
       "  <thead>\n",
       "    <tr>\n",
       "      <th></th>\n",
       "      <th colspan=\"3\" halign=\"left\">cltv</th>\n",
       "    </tr>\n",
       "    <tr>\n",
       "      <th></th>\n",
       "      <th>sum</th>\n",
       "      <th>count</th>\n",
       "      <th>mean</th>\n",
       "    </tr>\n",
       "    <tr>\n",
       "      <th>cltv_segment</th>\n",
       "      <th></th>\n",
       "      <th></th>\n",
       "      <th></th>\n",
       "    </tr>\n",
       "  </thead>\n",
       "  <tbody>\n",
       "    <tr>\n",
       "      <th>D</th>\n",
       "      <td>389278.975</td>\n",
       "      <td>4892</td>\n",
       "      <td>79.575</td>\n",
       "    </tr>\n",
       "    <tr>\n",
       "      <th>C</th>\n",
       "      <td>670711.389</td>\n",
       "      <td>4891</td>\n",
       "      <td>137.132</td>\n",
       "    </tr>\n",
       "    <tr>\n",
       "      <th>B</th>\n",
       "      <td>968023.166</td>\n",
       "      <td>4891</td>\n",
       "      <td>197.919</td>\n",
       "    </tr>\n",
       "    <tr>\n",
       "      <th>A</th>\n",
       "      <td>1755055.782</td>\n",
       "      <td>4892</td>\n",
       "      <td>358.760</td>\n",
       "    </tr>\n",
       "  </tbody>\n",
       "</table>\n",
       "</div>"
      ],
      "text/plain": [
       "                    cltv              \n",
       "                     sum count    mean\n",
       "cltv_segment                          \n",
       "D             389278.975  4892  79.575\n",
       "C             670711.389  4891 137.132\n",
       "B             968023.166  4891 197.919\n",
       "A            1755055.782  4892 358.760"
      ]
     },
     "execution_count": 41,
     "metadata": {},
     "output_type": "execute_result"
    }
   ],
   "source": [
    "cltv_df.groupby(\"cltv_segment\").agg({\"cltv\": [\"sum\", \"count\", \"mean\"]})"
   ]
  },
  {
   "cell_type": "markdown",
   "metadata": {},
   "source": [
    "Segmentlerimiz eşit dağılmışlar. Ortalamalarında bir sıkıntı gözükmüyor. cltv sum değerleri arasında çok fark olmaması veriyi düzgün böldüğümüzü gösteriyor."
   ]
  },
  {
   "cell_type": "markdown",
   "metadata": {},
   "source": [
    "### Adım 2: 4 grup içerisinden seçeceğiniz 2 grup için yönetime kısa kısa 6 aylık aksiyon önerilerinde bulununuz."
   ]
  },
  {
   "cell_type": "code",
   "execution_count": 42,
   "metadata": {},
   "outputs": [
    {
     "data": {
      "text/html": [
       "<div>\n",
       "<style scoped>\n",
       "    .dataframe tbody tr th:only-of-type {\n",
       "        vertical-align: middle;\n",
       "    }\n",
       "\n",
       "    .dataframe tbody tr th {\n",
       "        vertical-align: top;\n",
       "    }\n",
       "\n",
       "    .dataframe thead th {\n",
       "        text-align: right;\n",
       "    }\n",
       "</style>\n",
       "<table border=\"1\" class=\"dataframe\">\n",
       "  <thead>\n",
       "    <tr style=\"text-align: right;\">\n",
       "      <th></th>\n",
       "      <th>count</th>\n",
       "      <th>mean</th>\n",
       "      <th>std</th>\n",
       "      <th>min</th>\n",
       "      <th>25%</th>\n",
       "      <th>50%</th>\n",
       "      <th>75%</th>\n",
       "      <th>max</th>\n",
       "    </tr>\n",
       "  </thead>\n",
       "  <tbody>\n",
       "    <tr>\n",
       "      <th>recency_cltv_weekly</th>\n",
       "      <td>4892.000</td>\n",
       "      <td>139.168</td>\n",
       "      <td>96.479</td>\n",
       "      <td>1.000</td>\n",
       "      <td>69.000</td>\n",
       "      <td>101.000</td>\n",
       "      <td>200.000</td>\n",
       "      <td>432.000</td>\n",
       "    </tr>\n",
       "    <tr>\n",
       "      <th>T_weekly</th>\n",
       "      <td>4892.000</td>\n",
       "      <td>162.548</td>\n",
       "      <td>96.025</td>\n",
       "      <td>11.000</td>\n",
       "      <td>91.000</td>\n",
       "      <td>118.000</td>\n",
       "      <td>224.000</td>\n",
       "      <td>436.000</td>\n",
       "    </tr>\n",
       "    <tr>\n",
       "      <th>frequency</th>\n",
       "      <td>4892.000</td>\n",
       "      <td>3.777</td>\n",
       "      <td>2.150</td>\n",
       "      <td>2.000</td>\n",
       "      <td>2.000</td>\n",
       "      <td>3.000</td>\n",
       "      <td>4.250</td>\n",
       "      <td>18.000</td>\n",
       "    </tr>\n",
       "    <tr>\n",
       "      <th>monetary_cltv_avg</th>\n",
       "      <td>4892.000</td>\n",
       "      <td>92.409</td>\n",
       "      <td>30.378</td>\n",
       "      <td>22.000</td>\n",
       "      <td>73.000</td>\n",
       "      <td>89.000</td>\n",
       "      <td>108.000</td>\n",
       "      <td>284.000</td>\n",
       "    </tr>\n",
       "    <tr>\n",
       "      <th>exp_sales_3_month</th>\n",
       "      <td>4892.000</td>\n",
       "      <td>0.408</td>\n",
       "      <td>0.123</td>\n",
       "      <td>0.149</td>\n",
       "      <td>0.325</td>\n",
       "      <td>0.411</td>\n",
       "      <td>0.483</td>\n",
       "      <td>1.051</td>\n",
       "    </tr>\n",
       "    <tr>\n",
       "      <th>exp_sales_6_month</th>\n",
       "      <td>4892.000</td>\n",
       "      <td>0.817</td>\n",
       "      <td>0.245</td>\n",
       "      <td>0.299</td>\n",
       "      <td>0.651</td>\n",
       "      <td>0.822</td>\n",
       "      <td>0.967</td>\n",
       "      <td>2.102</td>\n",
       "    </tr>\n",
       "    <tr>\n",
       "      <th>expected_average_value</th>\n",
       "      <td>4892.000</td>\n",
       "      <td>97.898</td>\n",
       "      <td>31.799</td>\n",
       "      <td>24.395</td>\n",
       "      <td>76.936</td>\n",
       "      <td>94.011</td>\n",
       "      <td>113.344</td>\n",
       "      <td>305.482</td>\n",
       "    </tr>\n",
       "    <tr>\n",
       "      <th>cltv</th>\n",
       "      <td>4892.000</td>\n",
       "      <td>79.575</td>\n",
       "      <td>21.575</td>\n",
       "      <td>11.886</td>\n",
       "      <td>64.490</td>\n",
       "      <td>83.022</td>\n",
       "      <td>97.784</td>\n",
       "      <td>111.334</td>\n",
       "    </tr>\n",
       "  </tbody>\n",
       "</table>\n",
       "</div>"
      ],
      "text/plain": [
       "                          count    mean    std    min    25%     50%     75%     max\n",
       "recency_cltv_weekly    4892.000 139.168 96.479  1.000 69.000 101.000 200.000 432.000\n",
       "T_weekly               4892.000 162.548 96.025 11.000 91.000 118.000 224.000 436.000\n",
       "frequency              4892.000   3.777  2.150  2.000  2.000   3.000   4.250  18.000\n",
       "monetary_cltv_avg      4892.000  92.409 30.378 22.000 73.000  89.000 108.000 284.000\n",
       "exp_sales_3_month      4892.000   0.408  0.123  0.149  0.325   0.411   0.483   1.051\n",
       "exp_sales_6_month      4892.000   0.817  0.245  0.299  0.651   0.822   0.967   2.102\n",
       "expected_average_value 4892.000  97.898 31.799 24.395 76.936  94.011 113.344 305.482\n",
       "cltv                   4892.000  79.575 21.575 11.886 64.490  83.022  97.784 111.334"
      ]
     },
     "execution_count": 42,
     "metadata": {},
     "output_type": "execute_result"
    }
   ],
   "source": [
    "cltv_df[cltv_df[\"cltv_segment\"] == \"D\"].describe().T"
   ]
  },
  {
   "cell_type": "markdown",
   "metadata": {},
   "source": [
    "D segmentindeki insanların alışveriş alışkanlığı yukarıdaki tablodaki gibidir. Bu tabloya göre D segmentindeki bir kişinin 6 aylık süreç içerisinde ortalama 0.817 alışveriş yapması bekleniyor. Bu değeri arttırmak için D segmentindeki ortalama harcamaları da dikkate alınarak özel indirimler uygulanabilir."
   ]
  },
  {
   "cell_type": "code",
   "execution_count": 43,
   "metadata": {},
   "outputs": [
    {
     "data": {
      "text/html": [
       "<div>\n",
       "<style scoped>\n",
       "    .dataframe tbody tr th:only-of-type {\n",
       "        vertical-align: middle;\n",
       "    }\n",
       "\n",
       "    .dataframe tbody tr th {\n",
       "        vertical-align: top;\n",
       "    }\n",
       "\n",
       "    .dataframe thead th {\n",
       "        text-align: right;\n",
       "    }\n",
       "</style>\n",
       "<table border=\"1\" class=\"dataframe\">\n",
       "  <thead>\n",
       "    <tr style=\"text-align: right;\">\n",
       "      <th></th>\n",
       "      <th>count</th>\n",
       "      <th>mean</th>\n",
       "      <th>std</th>\n",
       "      <th>min</th>\n",
       "      <th>25%</th>\n",
       "      <th>50%</th>\n",
       "      <th>75%</th>\n",
       "      <th>max</th>\n",
       "    </tr>\n",
       "  </thead>\n",
       "  <tbody>\n",
       "    <tr>\n",
       "      <th>recency_cltv_weekly</th>\n",
       "      <td>4892.000</td>\n",
       "      <td>67.869</td>\n",
       "      <td>51.572</td>\n",
       "      <td>1.000</td>\n",
       "      <td>35.000</td>\n",
       "      <td>62.000</td>\n",
       "      <td>86.000</td>\n",
       "      <td>433.000</td>\n",
       "    </tr>\n",
       "    <tr>\n",
       "      <th>T_weekly</th>\n",
       "      <td>4892.000</td>\n",
       "      <td>83.244</td>\n",
       "      <td>50.848</td>\n",
       "      <td>2.000</td>\n",
       "      <td>54.000</td>\n",
       "      <td>79.000</td>\n",
       "      <td>98.000</td>\n",
       "      <td>437.000</td>\n",
       "    </tr>\n",
       "    <tr>\n",
       "      <th>frequency</th>\n",
       "      <td>4892.000</td>\n",
       "      <td>6.666</td>\n",
       "      <td>6.044</td>\n",
       "      <td>2.000</td>\n",
       "      <td>3.000</td>\n",
       "      <td>5.000</td>\n",
       "      <td>8.000</td>\n",
       "      <td>57.000</td>\n",
       "    </tr>\n",
       "    <tr>\n",
       "      <th>monetary_cltv_avg</th>\n",
       "      <td>4892.000</td>\n",
       "      <td>227.856</td>\n",
       "      <td>88.720</td>\n",
       "      <td>64.000</td>\n",
       "      <td>170.000</td>\n",
       "      <td>209.000</td>\n",
       "      <td>263.000</td>\n",
       "      <td>1401.000</td>\n",
       "    </tr>\n",
       "    <tr>\n",
       "      <th>exp_sales_3_month</th>\n",
       "      <td>4892.000</td>\n",
       "      <td>0.770</td>\n",
       "      <td>0.297</td>\n",
       "      <td>0.212</td>\n",
       "      <td>0.574</td>\n",
       "      <td>0.710</td>\n",
       "      <td>0.882</td>\n",
       "      <td>4.652</td>\n",
       "    </tr>\n",
       "    <tr>\n",
       "      <th>exp_sales_6_month</th>\n",
       "      <td>4892.000</td>\n",
       "      <td>1.539</td>\n",
       "      <td>0.594</td>\n",
       "      <td>0.425</td>\n",
       "      <td>1.147</td>\n",
       "      <td>1.419</td>\n",
       "      <td>1.765</td>\n",
       "      <td>9.304</td>\n",
       "    </tr>\n",
       "    <tr>\n",
       "      <th>expected_average_value</th>\n",
       "      <td>4892.000</td>\n",
       "      <td>236.921</td>\n",
       "      <td>94.224</td>\n",
       "      <td>64.615</td>\n",
       "      <td>175.401</td>\n",
       "      <td>217.396</td>\n",
       "      <td>275.029</td>\n",
       "      <td>1448.103</td>\n",
       "    </tr>\n",
       "    <tr>\n",
       "      <th>cltv</th>\n",
       "      <td>4892.000</td>\n",
       "      <td>358.760</td>\n",
       "      <td>157.069</td>\n",
       "      <td>238.264</td>\n",
       "      <td>267.898</td>\n",
       "      <td>310.231</td>\n",
       "      <td>391.540</td>\n",
       "      <td>3346.849</td>\n",
       "    </tr>\n",
       "  </tbody>\n",
       "</table>\n",
       "</div>"
      ],
      "text/plain": [
       "                          count    mean     std     min     25%     50%     75%      max\n",
       "recency_cltv_weekly    4892.000  67.869  51.572   1.000  35.000  62.000  86.000  433.000\n",
       "T_weekly               4892.000  83.244  50.848   2.000  54.000  79.000  98.000  437.000\n",
       "frequency              4892.000   6.666   6.044   2.000   3.000   5.000   8.000   57.000\n",
       "monetary_cltv_avg      4892.000 227.856  88.720  64.000 170.000 209.000 263.000 1401.000\n",
       "exp_sales_3_month      4892.000   0.770   0.297   0.212   0.574   0.710   0.882    4.652\n",
       "exp_sales_6_month      4892.000   1.539   0.594   0.425   1.147   1.419   1.765    9.304\n",
       "expected_average_value 4892.000 236.921  94.224  64.615 175.401 217.396 275.029 1448.103\n",
       "cltv                   4892.000 358.760 157.069 238.264 267.898 310.231 391.540 3346.849"
      ]
     },
     "execution_count": 43,
     "metadata": {},
     "output_type": "execute_result"
    }
   ],
   "source": [
    "cltv_df[cltv_df[\"cltv_segment\"] == \"A\"].describe().T"
   ]
  },
  {
   "cell_type": "markdown",
   "metadata": {},
   "source": [
    "A segmentindeki insanların alışveriş alışkanlığı yukarıdaki gibidir. Bu segmentteki kişiler sık şekilde alışveriş yapmaktadır.Bu segmentteki kişiler için ürün yelpazemizi genişletmek daha farklı modeller üretmek bu kişileri daha fazla alışveriş yapmaya itebilir."
   ]
  }
 ],
 "metadata": {
  "kernelspec": {
   "display_name": "Python 3",
   "language": "python",
   "name": "python3"
  },
  "language_info": {
   "codemirror_mode": {
    "name": "ipython",
    "version": 3
   },
   "file_extension": ".py",
   "mimetype": "text/x-python",
   "name": "python",
   "nbconvert_exporter": "python",
   "pygments_lexer": "ipython3",
   "version": "3.9.0"
  }
 },
 "nbformat": 4,
 "nbformat_minor": 4
}
